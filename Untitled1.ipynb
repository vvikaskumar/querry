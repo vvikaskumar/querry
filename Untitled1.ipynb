{
  "nbformat": 4,
  "nbformat_minor": 0,
  "metadata": {
    "colab": {
      "provenance": []
    },
    "kernelspec": {
      "name": "python3",
      "display_name": "Python 3"
    },
    "language_info": {
      "name": "python"
    }
  },
  "cells": [
    {
      "cell_type": "code",
      "execution_count": 16,
      "metadata": {
        "id": "3NuarRKuivO-"
      },
      "outputs": [],
      "source": [
        "class BankAccount:\n",
        "    def __init__(self,account_number,account_holder):\n",
        "        self.account_number = account_number\n",
        "        self.account_holder = account_holder\n",
        "        self.balance = 0\n",
        "\n",
        "    def deposit(self,amount):\n",
        "        self.balance = self.balance +amount\n",
        "        return self.balance\n",
        "\n",
        "    def withdraw(self,amount):\n",
        "        if amount > self.balance:\n",
        "            print('Insuffiecient Balance')\n",
        "        else:\n",
        "            self.balance = self.balance -amount\n",
        "        return self.balance\n",
        "\n",
        "    def get_balance(self):\n",
        "        return self.balance\n",
        "\n",
        "class SavingsAccount(BankAccount):\n",
        "    def _init__(self,account_number,account_holder,interest_rate):\n",
        "        super().__init__(account_number,account_holder)\n",
        "        self.interest_rate = interest_rate\n",
        "\n",
        "    def add_interest(self):\n",
        "        interest = self.balance*self.interest_rate/100\n",
        "        self.balance = self.balance+interest\n",
        "        return self.balance\n",
        "\n",
        "class CurrentAccount(BankAccount):\n",
        "    def _init__(self,account_number,account_holder,overdraft_limit):\n",
        "        super().__init__(account_number,account_holder)\n",
        "        self.Overdraft_limit = overdraft_limit\n",
        "\n",
        "    def withdraw(self,amount):\n",
        "        if amount > self.balance +self.overdraf_limit:\n",
        "            print('OD Limit exceeded')\n",
        "        else:\n",
        "            self.balance = self.balance - amount\n",
        "        return self.balance"
      ]
    },
    {
      "cell_type": "code",
      "source": [
        "savings_account = SavingsAccount('122344','ABS',2.3)"
      ],
      "metadata": {
        "colab": {
          "base_uri": "https://localhost:8080/",
          "height": 176
        },
        "id": "F459KOpNi0pz",
        "outputId": "4a8062fd-7fa4-47f6-ba9f-0d1dfd82cc82"
      },
      "execution_count": 17,
      "outputs": [
        {
          "output_type": "error",
          "ename": "TypeError",
          "evalue": "ignored",
          "traceback": [
            "\u001b[0;31m---------------------------------------------------------------------------\u001b[0m",
            "\u001b[0;31mTypeError\u001b[0m                                 Traceback (most recent call last)",
            "\u001b[0;32m<ipython-input-17-233e9b1012e2>\u001b[0m in \u001b[0;36m<cell line: 1>\u001b[0;34m()\u001b[0m\n\u001b[0;32m----> 1\u001b[0;31m \u001b[0msavings_account\u001b[0m \u001b[0;34m=\u001b[0m \u001b[0mSavingsAccount\u001b[0m\u001b[0;34m(\u001b[0m\u001b[0;34m'122344'\u001b[0m\u001b[0;34m,\u001b[0m\u001b[0;34m'ABS'\u001b[0m\u001b[0;34m,\u001b[0m\u001b[0;36m2.3\u001b[0m\u001b[0;34m)\u001b[0m\u001b[0;34m\u001b[0m\u001b[0;34m\u001b[0m\u001b[0m\n\u001b[0m",
            "\u001b[0;31mTypeError\u001b[0m: BankAccount.__init__() takes 3 positional arguments but 4 were given"
          ]
        }
      ]
    },
    {
      "cell_type": "code",
      "source": [
        "\n",
        "\n",
        "class Parent:\n",
        "    def __init__(self, name, age):\n",
        "        self.name = name\n",
        "        self.age = age\n",
        "\n",
        "class Child(Parent):\n",
        "    def __init__(self, name, age, school):\n",
        "        super().__init__(name, age)  # Call the constructor of the Parent class\n",
        "        self.school = school\n",
        "\n",
        "# Creating an object of the Child class with three arguments\n",
        "child_obj = Child(\"Alice\", 10, \"ABC School\")\n",
        "\n",
        "print(child_obj.name)    # Output: Alice\n",
        "print(child_obj.age)     # Output: 10\n",
        "print(child_obj.school)  # Output: ABC\n"
      ],
      "metadata": {
        "colab": {
          "base_uri": "https://localhost:8080/"
        },
        "id": "2atOkgaHniAg",
        "outputId": "1307c85b-1414-4107-9c96-11d3930cef52"
      },
      "execution_count": 14,
      "outputs": [
        {
          "output_type": "stream",
          "name": "stdout",
          "text": [
            "Alice\n",
            "10\n",
            "ABC School\n"
          ]
        }
      ]
    },
    {
      "cell_type": "markdown",
      "source": [],
      "metadata": {
        "id": "FMhJBoOonohh"
      }
    },
    {
      "cell_type": "code",
      "source": [],
      "metadata": {
        "id": "btpaBO02i6Sm"
      },
      "execution_count": 11,
      "outputs": []
    }
  ]
}